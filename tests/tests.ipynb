{
 "cells": [
  {
   "cell_type": "code",
   "execution_count": 4,
   "id": "67458725",
   "metadata": {},
   "outputs": [
    {
     "ename": "ModuleNotFoundError",
     "evalue": "No module named 'codebase'",
     "output_type": "error",
     "traceback": [
      "\u001b[0;31m---------------------------------------------------------------------------\u001b[0m",
      "\u001b[0;31mModuleNotFoundError\u001b[0m                       Traceback (most recent call last)",
      "Cell \u001b[0;32mIn[4], line 1\u001b[0m\n\u001b[0;32m----> 1\u001b[0m \u001b[38;5;28;01mfrom\u001b[39;00m \u001b[38;5;21;01mcodebase\u001b[39;00m\u001b[38;5;21;01m.\u001b[39;00m\u001b[38;5;21;01mutils\u001b[39;00m \u001b[38;5;28;01mimport\u001b[39;00m aoi_path\n",
      "\u001b[0;31mModuleNotFoundError\u001b[0m: No module named 'codebase'"
     ]
    }
   ],
   "source": [
    "from codebase.utils import aoi_path"
   ]
  },
  {
   "cell_type": "code",
   "execution_count": 1,
   "id": "6d0fce64",
   "metadata": {},
   "outputs": [
    {
     "data": {
      "text/plain": [
       "['/global/home/users/alexandregeorges/Chapter1/tests',\n",
       " '/global/home/users/alexandregeorges/.conda/envs/MangroveRS/lib/python311.zip',\n",
       " '/global/home/users/alexandregeorges/.conda/envs/MangroveRS/lib/python3.11',\n",
       " '/global/home/users/alexandregeorges/.conda/envs/MangroveRS/lib/python3.11/lib-dynload',\n",
       " '',\n",
       " '/global/home/users/alexandregeorges/.local/lib/python3.11/site-packages',\n",
       " '/global/home/users/alexandregeorges/.conda/envs/MangroveRS/lib/python3.11/site-packages']"
      ]
     },
     "execution_count": 1,
     "metadata": {},
     "output_type": "execute_result"
    }
   ],
   "source": [
    "import sys\n",
    "sys.path"
   ]
  },
  {
   "cell_type": "code",
   "execution_count": 12,
   "id": "b4f7e1ec",
   "metadata": {},
   "outputs": [],
   "source": [
    "import sys\n",
    "sys.path.append('/global/home/users/alexandregeorges/Chapter1/')\n"
   ]
  },
  {
   "cell_type": "code",
   "execution_count": 13,
   "id": "500a83ee",
   "metadata": {},
   "outputs": [
    {
     "data": {
      "text/plain": [
       "['/global/home/users/alexandregeorges/Chapter1/tests',\n",
       " '/global/home/users/alexandregeorges/.conda/envs/MangroveRS/lib/python311.zip',\n",
       " '/global/home/users/alexandregeorges/.conda/envs/MangroveRS/lib/python3.11',\n",
       " '/global/home/users/alexandregeorges/.conda/envs/MangroveRS/lib/python3.11/lib-dynload',\n",
       " '',\n",
       " '/global/home/users/alexandregeorges/.local/lib/python3.11/site-packages',\n",
       " '/global/home/users/alexandregeorges/.conda/envs/MangroveRS/lib/python3.11/site-packages',\n",
       " '/global/home/users/alexandregeorges/Chapter1/codebase',\n",
       " '/global/home/users/alexandregeorges/Chapter1/']"
      ]
     },
     "execution_count": 13,
     "metadata": {},
     "output_type": "execute_result"
    }
   ],
   "source": [
    "sys.path"
   ]
  },
  {
   "cell_type": "code",
   "execution_count": 14,
   "id": "c7ce589d",
   "metadata": {},
   "outputs": [],
   "source": [
    "import codebase.utils"
   ]
  }
 ],
 "metadata": {
  "kernelspec": {
   "display_name": "MangroveRS",
   "language": "python",
   "name": "mangrovers"
  },
  "language_info": {
   "codemirror_mode": {
    "name": "ipython",
    "version": 3
   },
   "file_extension": ".py",
   "mimetype": "text/x-python",
   "name": "python",
   "nbconvert_exporter": "python",
   "pygments_lexer": "ipython3",
   "version": "3.11.4"
  }
 },
 "nbformat": 4,
 "nbformat_minor": 5
}
