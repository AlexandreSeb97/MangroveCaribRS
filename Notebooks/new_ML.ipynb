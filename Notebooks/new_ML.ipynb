{
 "cells": [
  {
   "cell_type": "markdown",
   "metadata": {},
   "source": [
    "# Testing out PyTorch"
   ]
  },
  {
   "cell_type": "code",
   "execution_count": 6,
   "metadata": {},
   "outputs": [],
   "source": [
    "import torch\n",
    "import numpy as np\n",
    "import matplotlib.pyplot as plt\n",
    "from kmeans_pytorch import kmeans, kmeans_predict\n",
    "import rioxarray as rxr\n",
    "import pandas as pd\n",
    "import earthpy.plot as ep\n",
    "import geopandas as gpd\n",
    "import matplotlib.pyplot as plt\n",
    "import itertools\n",
    "import cv2 as cv\n",
    "import os\n",
    "from matplotlib import colors as colors_mat\n",
    "import matplotlib.patches as mpatches\n",
    "import matplotlib.cm as cm"
   ]
  },
  {
   "cell_type": "code",
   "execution_count": 7,
   "metadata": {},
   "outputs": [],
   "source": [
    "aoi_list = ['coast_NW', 'coast_N', 'horn', 'coast_W', 'marsh_E', 'marsh_W']\n",
    "#aoi_list = ['west','east','barrier', 'coast_marsh_S']\n",
    "\n",
    "def aoi_path(name):\n",
    "    return '../shapefiles/'+name+'.shp'"
   ]
  },
  {
   "cell_type": "code",
   "execution_count": 8,
   "metadata": {},
   "outputs": [],
   "source": [
    "dir = '../Planet/'\n",
    "#dir = '../Planet_Caracol/'\n",
    "times = []\n",
    "sites = []\n",
    "resSites = []\n",
    "unmasked_sites = []\n",
    "for area in aoi_list:\n",
    "    unmasked_obs = []\n",
    "    obs = []\n",
    "    res = []\n",
    "    aoi = gpd.read_file(aoi_path(area))\n",
    "    for entry in os.scandir(dir):\n",
    "        times.append(entry.path)\n",
    "        ob = rxr.open_rasterio(entry.path).rio.clip(aoi.geometry, from_disk=True).squeeze()\n",
    "        ob_copy = rxr.open_rasterio(entry.path).rio.clip(aoi.geometry, from_disk=True).squeeze()\n",
    "        res.append(ob.rio.resolution()[0])\n",
    "        obs.append(ob)\n",
    "        unmasked_obs.append(ob_copy)\n",
    "    sites.append(obs)\n",
    "    unmasked_sites.append(unmasked_obs)\n",
    "    resSites.append(res)"
   ]
  },
  {
   "cell_type": "code",
   "execution_count": 9,
   "metadata": {},
   "outputs": [],
   "source": [
    "reshapedSites = []\n",
    "for site in sites:\n",
    "    acqVecs = []\n",
    "    reshapedVecs = []\n",
    "    shapes = []\n",
    "    for ob in site:\n",
    "        shapes.append(ob.shape)\n",
    "        acq = [band.values.reshape(((band.shape)[0])*((band.shape)[1]), 1) for band in ob]\n",
    "        acqVecs.append(acq)\n",
    "    for i, acq in enumerate(acqVecs):\n",
    "        resh = np.array(acq).reshape(shapes[i][0], shapes[i][1]*shapes[i][2]).transpose()\n",
    "        reshapedVecs.append(resh)\n",
    "    reshapedSites.append(reshapedVecs)"
   ]
  },
  {
   "cell_type": "code",
   "execution_count": 10,
   "metadata": {},
   "outputs": [],
   "source": [
    "# set device\n",
    "device = 'cuda' if torch.cuda.is_available() else 'cpu'"
   ]
  },
  {
   "cell_type": "code",
   "execution_count": 11,
   "metadata": {},
   "outputs": [],
   "source": [
    "x = torch.from_numpy(reshapedSites[3][-1])"
   ]
  },
  {
   "cell_type": "code",
   "execution_count": 12,
   "metadata": {},
   "outputs": [
    {
     "name": "stdout",
     "output_type": "stream",
     "text": [
      "running k-means on cuda..\n"
     ]
    },
    {
     "name": "stderr",
     "output_type": "stream",
     "text": [
      "[running kmeans]: 40it [00:03, 10.14it/s, center_shift=0.000052, iteration=40, tol=0.000100]    \n"
     ]
    }
   ],
   "source": [
    "cluster_ids_x, cluster_centers = kmeans(X=x, num_clusters=3, distance='euclidean', device=device)"
   ]
  },
  {
   "cell_type": "code",
   "execution_count": 13,
   "metadata": {},
   "outputs": [],
   "source": [
    "# more data\n",
    "y = torch.from_numpy(reshapedSites[3][-1])"
   ]
  },
  {
   "cell_type": "code",
   "execution_count": 14,
   "metadata": {},
   "outputs": [
    {
     "name": "stdout",
     "output_type": "stream",
     "text": [
      "predicting on cuda..\n"
     ]
    }
   ],
   "source": [
    "# predict cluster ids for y\n",
    "cluster_ids_y = kmeans_predict(\n",
    "    y, cluster_centers, 'euclidean', device=device\n",
    ")"
   ]
  },
  {
   "cell_type": "code",
   "execution_count": 15,
   "metadata": {},
   "outputs": [
    {
     "data": {
      "text/plain": [
       "torch.Size([774795])"
      ]
     },
     "execution_count": 15,
     "metadata": {},
     "output_type": "execute_result"
    }
   ],
   "source": [
    "cluster_ids_y.shape"
   ]
  },
  {
   "cell_type": "code",
   "execution_count": 16,
   "metadata": {},
   "outputs": [
    {
     "data": {
      "text/plain": [
       "<matplotlib.image.AxesImage at 0x17c05e8b070>"
      ]
     },
     "execution_count": 16,
     "metadata": {},
     "output_type": "execute_result"
    },
    {
     "data": {
      "image/png": "[encoded data removed]",
      "text/plain": [
       "<Figure size 432x288 with 1 Axes>"
      ]
     },
     "metadata": {
      "needs_background": "light"
     },
     "output_type": "display_data"
    }
   ],
   "source": [
    "clusteredImage = cluster_ids_y.reshape(sites[3][-1][0].shape)\n",
    "plt.imshow(clusteredImage)"
   ]
  },
  {
   "cell_type": "code",
   "execution_count": 20,
   "metadata": {},
   "outputs": [
    {
     "data": {
      "text/plain": [
       "tensor([[ 395.8225,  613.0710,  575.4420, 1566.5151],\n",
       "        [ 134.4457,  330.0593,  200.1522, 2281.7698],\n",
       "        [ 242.9789,  320.8815,  162.5287,  160.3441]])"
      ]
     },
     "execution_count": 20,
     "metadata": {},
     "output_type": "execute_result"
    }
   ],
   "source": [
    "cluster_centers"
   ]
  }
 ],
 "metadata": {
  "interpreter": {
   "hash": "684f91ce95439fa5db7789ed64750eda882387a2349cfc555f522716b6650b5b"
  },
  "kernelspec": {
   "display_name": "Python 3.9.8 64-bit",
   "language": "python",
   "name": "python3"
  },
  "language_info": {
   "codemirror_mode": {
    "name": "ipython",
    "version": 3
   },
   "file_extension": ".py",
   "mimetype": "text/x-python",
   "name": "python",
   "nbconvert_exporter": "python",
   "pygments_lexer": "ipython3",
   "version": "3.9.9"
  },
  "orig_nbformat": 4
 },
 "nbformat": 4,
 "nbformat_minor": 2
}
