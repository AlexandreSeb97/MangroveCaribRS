version https://git-lfs.github.com/spec/v1
oid sha256:19296e51cc9adde7059756ae3898f1c1bf2643bc8351f4027cfed9e2fe5580ad
size 468556
