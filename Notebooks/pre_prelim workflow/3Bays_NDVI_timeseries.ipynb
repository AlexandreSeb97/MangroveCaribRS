{
 "cells": [
  {
   "cell_type": "markdown",
   "metadata": {},
   "source": [
    "# Three Bays Mangrove Timeseries Analysis, Artibonite, Haiti"
   ]
  },
  {
   "cell_type": "code",
   "execution_count": 1,
   "metadata": {},
   "outputs": [],
   "source": [
    "import os\n",
    "import gc\n",
    "import json\n",
    "import glob\n",
    "import tarfile\n",
    "\n",
    "import pandas as pd\n",
    "import rasterio as rs\n",
    "import rioxarray as rxr\n",
    "import geopandas as gpd\n",
    "import matplotlib.pyplot as plt\n",
    "import numpy as np\n",
    "\n",
    "from natsort import natsorted\n",
    "from datetime import datetime\n",
    "from sklearn.linear_model import LinearRegression"
   ]
  },
  {
   "cell_type": "markdown",
   "metadata": {},
   "source": [
    "Getting and sorting .tar file paths from Bulk Download Landsat Ph.D Data directory"
   ]
  },
  {
   "cell_type": "code",
   "execution_count": 2,
   "metadata": {},
   "outputs": [],
   "source": [
    "data_dir = 'F:/PhD Data/Landsat 2010-2022/*.tar'\n",
    "tarpaths = []\n",
    "# Suffixes and Prefixes to clean to easily sort by observation date \n",
    "sfs = ['_02_T1.tar','_02_T2.tar', '_02_T1_B1.TIF', '_02_T1_B2.TIF', '_02_T1_B3.TIF', '_02_T1_B4.TIF', '_02_T1_B5.TIF', '_02_T1_MTL.json',\n",
    "        '_02_T2_B1.TIF', '_02_T2_B2.TIF', '_02_T2_B3.TIF', '_02_T2_B4.TIF', '_02_T2_B5.TIF', '_02_T2_MTL.json',\n",
    "        '_02_T1_SR_B1.TIF', '_02_T1_SR_B2.TIF', '_02_T1_SR_B3.TIF', '_02_T1_SR_B4.TIF', '_02_T1_SR_B5.TIF', '_02_T1_MTL.json',\n",
    "        '_02_T2_SR_B1.TIF', '_02_T2_SR_B2.TIF', '_02_T2_SR_B3.TIF', '_02_T2_SR_B4.TIF', '_02_T2_SR_B5.TIF', '_02_T2_MTL.json']\n",
    "pfs = ['F:/PhD Data/Landsat 8 OLI_TIRS C2 L1\\LC08_L1GT_009047_', 'F:/PhD Data/Landsat 8 OLI_TIRS C2 L1\\LC08_L1TP_009047_', \n",
    "        'F:/PhD Data/Landsat 8 OLI_TIRS C2 L1\\LC08_L1TP_009046_', 'F:/PhD Data/Landsat 8 OLI_TIRS C2 L1\\LO08_L1GT_009047_',\n",
    "        'F:/PhD Data/Landsat 2010-2022\\LC08_L2SP_009046_', 'F:/PhD Data/Landsat 2010-2022\\LC08_L2SP_009047_',\n",
    "        'F:/PhD Data/Landsat 2010-2022\\LE07_L2SP_009047_',\n",
    "        'extracted/timeseries/LC08_L1GT_009047_', 'extracted/timeseries/LC08_L1TP_009047_', \n",
    "        'extracted/timeseries/LC08_L1TP_009046_', 'extracted/timeseries/LC08_L1GT_009047_',\n",
    "        'extracted/timeseries/LC08_L2SP_009046_', 'extracted/timeseries/LC08_L2SP_009047_',\n",
    "        'extracted/timeseries/LE07_L2SP_009047_']\n",
    "# Parse through .tar files in folder\n",
    "for filepath in glob.iglob(data_dir):\n",
    "    tarpaths.append(filepath)\n",
    "\n",
    "# Returns observation date\n",
    "def rm_prefsuf(x):\n",
    "    for sf in sfs:\n",
    "        x = x.removesuffix(sf)\n",
    "    for pf in pfs:\n",
    "        x = x.removeprefix(pf)\n",
    "    return (x)[:-9]\n",
    "\n",
    "# Sort list of paths by observation dates\n",
    "tarpaths = natsorted(tarpaths, key=lambda x: datetime.strptime(rm_prefsuf(x), '%Y%m%d'))"
   ]
  },
  {
   "cell_type": "markdown",
   "metadata": {},
   "source": [
    "## Timeseries analysis"
   ]
  },
  {
   "cell_type": "markdown",
   "metadata": {},
   "source": [
    "Extent of mangrove forest for cropping"
   ]
  },
  {
   "cell_type": "code",
   "execution_count": 3,
   "metadata": {},
   "outputs": [],
   "source": [
    "bay_p = 'shapefiles/GP_mangrove_extent.shp'\n",
    "bay_boundary = gpd.read_file(bay_p)"
   ]
  },
  {
   "cell_type": "markdown",
   "metadata": {},
   "source": [
    "Retrieving .tar bands from all observations"
   ]
  },
  {
   "cell_type": "code",
   "execution_count": 4,
   "metadata": {},
   "outputs": [],
   "source": [
    "rs.Env(VRT_SHARED_SOURCE = 0)\n",
    "\n",
    "paths = []\n",
    "# Only grab bands 1 through 5\n",
    "wanted = ['B4.TIF', 'B5.TIF', 'MTL.json']\n",
    "wanted_LS7 = ['B3.TIF', 'B4.TIF', 'MTL.json']\n",
    "\n",
    "for tar in tarpaths:\n",
    "    paths.append(tar)"
   ]
  },
  {
   "cell_type": "markdown",
   "metadata": {},
   "source": [
    "Extract band files for temporary use (only Bands 1 to 5) and calculate NDVI for observation day"
   ]
  },
  {
   "cell_type": "code",
   "execution_count": 5,
   "metadata": {},
   "outputs": [],
   "source": [
    "# First observation\n",
    "ndvi_ts = []\n",
    "ndvi_ts_max = []\n",
    "ndvi_anim = []\n",
    "dates = []\n",
    "landsat7_path_pf = 'F:/PhD Data/Landsat 2010-2022\\LE07'\n",
    "for path in paths:\n",
    "    current_date = datetime.strptime(rm_prefsuf(path), '%Y%m%d')\n",
    "    archive1 = tarfile.open(path, 'r')\n",
    "    archive1.getmembers()\n",
    "    band_files = []\n",
    "    for file in archive1.getmembers():\n",
    "        #print(file.name + ': ' + str(file.name.endswith(tuple(wanted))))\n",
    "        if path.startswith(landsat7_path_pf):\n",
    "            if file.name.endswith(tuple(wanted_LS7)):\n",
    "                band_files.append(file)\n",
    "                file.uname\n",
    "        else:\n",
    "            if file.name.endswith(tuple(wanted)):\n",
    "                band_files.append(file)\n",
    "                file.uname\n",
    "    band_files = natsorted(band_files, key=lambda x: x.name)\n",
    "\n",
    "    # Bands extraction\n",
    "    for f in band_files:\n",
    "        archive1.extract(f, path='extracted/timeseries/')\n",
    "        # Stack bands in list and open metadata\n",
    "    bands = []\n",
    "    directory = 'extracted/timeseries/'\n",
    "        # Looping over all GeoTIFF files\n",
    "    i = 0\n",
    "    for entry in os.scandir(directory):\n",
    "        entry_date = datetime.strptime(rm_prefsuf(entry.path), '%Y%m%d')\n",
    "        # Tries to open .TIF files of the current obs date, if that fails, know we reached the .json metadata file and get that instead\n",
    "        if entry_date == current_date:\n",
    "            try:\n",
    "                fp = entry.path\n",
    "                # Open and crop bands to mangrove extent\n",
    "                bands.append(rxr.open_rasterio(fp).rio.clip(bay_boundary.geometry, from_disk=True).squeeze())\n",
    "                bands[i][\"Band\"] = i+1\n",
    "                i += 1\n",
    "            except Exception as e:\n",
    "                i = 0\n",
    "                metadata = json.load(open(entry.path))\n",
    "    # Calculate NDVI for single observation date and stack\n",
    "    nir = bands[1].astype(float)\n",
    "    red = bands[0].astype(float)\n",
    "    ndvi= (nir - red) / (nir + red)\n",
    "    ndvi_anim.append(ndvi)\n",
    "    dates.append(current_date)\n",
    "    ndvi_ts.append(ndvi.mean().values)\n",
    "    ndvi_ts_max.append(ndvi.max().values)"
   ]
  },
  {
   "cell_type": "code",
   "execution_count": 6,
   "metadata": {},
   "outputs": [],
   "source": [
    "data = {'Date': dates,\n",
    "        'Mean NDVI': ndvi_ts,\n",
    "        'Max NDVI': ndvi_ts_max}\n",
    "df = pd.DataFrame(data)\n",
    "df = df.set_index(\"Date\")\n",
    "df['date_from_start'] = (df.index - df.index[0]).days"
   ]
  },
  {
   "cell_type": "code",
   "execution_count": 7,
   "metadata": {},
   "outputs": [],
   "source": [
    "X = df['date_from_start'].values.reshape(-1, 1)\n",
    "reg = LinearRegression().fit(X, ndvi_ts)\n",
    "LinearRegression(copy_X=True, fit_intercept=True, n_jobs=1, normalize=False)\n",
    "LinearRegression(copy_X=True, fit_intercept=True, n_jobs=1, normalize=False)\n",
    "y = reg.predict(X)"
   ]
  },
  {
   "cell_type": "code",
   "execution_count": 8,
   "metadata": {},
   "outputs": [
    {
     "data": {
      "image/png": "[encoded data removed]",
      "text/plain": [
       "<Figure size 432x288 with 1 Axes>"
      ]
     },
     "metadata": {
      "needs_background": "light"
     },
     "output_type": "display_data"
    }
   ],
   "source": [
    "fig, ax = plt.subplots()\n",
    "plt.scatter(dates, ndvi_ts, s=60, alpha=0.7, edgecolors=\"k\")\n",
    "b, a = np.polyfit(df['date_from_start'], ndvi_ts, deg=1)\n",
    "xseq = df['date_from_start']\n",
    "ax.plot(dates, a + b * xseq, color=\"k\", lw=2.5);\n",
    "#plt.plot(dates, y, color='red')\n",
    "plt.title('Mean NDVI in the Three Bays Mangrove Forest\\n\"Whole Forest\\nHaiti [2010-2022]')\n",
    "plt.text(dates[0], 0.12, 'slope: ' + str(reg.coef_))\n",
    "plt.xlabel('Observation Date')\n",
    "plt.ylabel('Mean NDVI')\n",
    "plt.show()"
   ]
  },
  {
   "cell_type": "code",
   "execution_count": 9,
   "metadata": {},
   "outputs": [],
   "source": [
    "#for i, n in enumerate(ndvi_anim):\n",
    " #   fig = plt.figure(figsize=(8, 6), dpi=120)\n",
    " #   nd = plt.imshow(n, vmin=-1, vmax=1)\n",
    "  #  plt.title(\"Baie de Grand-Pierre\\n\")\n",
    "   # plt.set_cmap('seismic')\n",
    "    #plt.colorbar(nd)\n",
    "    #fig.savefig('animation/ndvi'+str(i)+'.png') "
   ]
  }
 ],
 "metadata": {
  "interpreter": {
   "hash": "9469128330f806a7ea1d2776d365450f01d64ef41807c8cc111bff32cae1bab4"
  },
  "kernelspec": {
   "display_name": "Python 3.9.9 64-bit",
   "language": "python",
   "name": "python3"
  },
  "language_info": {
   "codemirror_mode": {
    "name": "ipython",
    "version": 3
   },
   "file_extension": ".py",
   "mimetype": "text/x-python",
   "name": "python",
   "nbconvert_exporter": "python",
   "pygments_lexer": "ipython3",
   "version": "3.9.9"
  },
  "orig_nbformat": 4
 },
 "nbformat": 4,
 "nbformat_minor": 2
}
