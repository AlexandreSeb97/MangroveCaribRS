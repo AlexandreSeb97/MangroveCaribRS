{
 "cells": [
  {
   "attachments": {},
   "cell_type": "markdown",
   "metadata": {},
   "source": [
    "# Re-Download Pre-created order"
   ]
  },
  {
   "cell_type": "code",
   "execution_count": 1,
   "metadata": {},
   "outputs": [],
   "source": [
    "import asyncio\n",
    "import os\n",
    "import httpx\n",
    "\n",
    "from datetime import date\n",
    "\n",
    "import geopandas as gpd\n",
    "\n",
    "from params import *\n",
    "from planet import order_request, Session, DataClient, data_filter, reporting, reporting"
   ]
  },
  {
   "attachments": {},
   "cell_type": "markdown",
   "metadata": {},
   "source": [
    "Copy in order id"
   ]
  },
  {
   "cell_type": "code",
   "execution_count": 2,
   "metadata": {},
   "outputs": [],
   "source": [
    "id = \"012832ce-d966-4bf6-90cd-f713abc1536e\""
   ]
  },
  {
   "attachments": {},
   "cell_type": "markdown",
   "metadata": {},
   "source": [
    "Initialize and Download order"
   ]
  },
  {
   "cell_type": "code",
   "execution_count": 3,
   "metadata": {},
   "outputs": [
    {
     "name": "stderr",
     "output_type": "stream",
     "text": [
      "00:00 - order 012832ce-d966-4bf6-90cd-f713abc1536e - state: success\n",
      "..\\datasets\\Planet\\GPHT\\012832ce-d966-4bf6-90cd-f713abc1536e\\PSScene\\20220105_141000_100a_3B_AnalyticMS_metadata_clip.xml: 100%|██████████| 0.01k/0.01k [00:00<00:00, 4.35MB/s]\n",
      "..\\datasets\\Planet\\GPHT\\012832ce-d966-4bf6-90cd-f713abc1536e\\PSScene\\20220105_141000_100a_metadata.json: 100%|██████████| 0.00k/0.00k [00:00<00:00, 1.39MB/s]\n",
      "..\\datasets\\Planet\\GPHT\\012832ce-d966-4bf6-90cd-f713abc1536e\\PSScene\\20220105_141000_100a_3B_AnalyticMS_SR_harmonized_clip_bandmath.tif: 100%|██████████| 27.8k/27.8k [00:00<00:00, 84.1MB/s]\n",
      "..\\datasets\\Planet\\GPHT\\012832ce-d966-4bf6-90cd-f713abc1536e\\PSScene\\20220105_141000_100a_3B_udm2_clip.tif: 100%|██████████| 0.35k/0.35k [00:00<00:00, 8.55MB/s]\n",
      "..\\datasets\\Planet\\GPHT\\012832ce-d966-4bf6-90cd-f713abc1536e\\PSScene\\20220120_140832_1008_metadata.json: 100%|██████████| 0.00k/0.00k [00:00<00:00, 867kB/s]\n",
      "..\\datasets\\Planet\\GPHT\\012832ce-d966-4bf6-90cd-f713abc1536e\\PSScene\\20220120_140832_1008_3B_AnalyticMS_metadata_clip.xml: 100%|██████████| 0.01k/0.01k [00:00<00:00, 9.37MB/s]\n",
      "..\\datasets\\Planet\\GPHT\\012832ce-d966-4bf6-90cd-f713abc1536e\\PSScene\\20220120_140832_1008_3B_udm2_clip.tif: 100%|██████████| 0.29k/0.29k [00:00<00:00, 7.15MB/s]\n",
      "..\\datasets\\Planet\\GPHT\\012832ce-d966-4bf6-90cd-f713abc1536e\\PSScene\\20220120_140832_1008_3B_AnalyticMS_SR_harmonized_clip_bandmath.tif: 100%|██████████| 17.5k/17.5k [00:00<00:00, 67.2MB/s]\n",
      "..\\datasets\\Planet\\GPHT\\012832ce-d966-4bf6-90cd-f713abc1536e\\PSScene\\20220111_140848_101f_3B_AnalyticMS_metadata_clip.xml: 100%|██████████| 0.01k/0.01k [00:00<00:00, 9.30MB/s]\n",
      "..\\datasets\\Planet\\GPHT\\012832ce-d966-4bf6-90cd-f713abc1536e\\PSScene\\20220111_140848_101f_3B_udm2_clip.tif: 100%|██████████| 0.22k/0.22k [00:00<00:00, 7.70MB/s]\n",
      "..\\datasets\\Planet\\GPHT\\012832ce-d966-4bf6-90cd-f713abc1536e\\PSScene\\20220111_140848_101f_metadata.json: 100%|██████████| 0.00k/0.00k [00:00<00:00, 1.39MB/s]\n",
      "..\\datasets\\Planet\\GPHT\\012832ce-d966-4bf6-90cd-f713abc1536e\\PSScene\\20220111_140848_101f_3B_AnalyticMS_SR_harmonized_clip_bandmath.tif: 100%|██████████| 5.62k/5.62k [00:00<00:00, 58.3MB/s]\n",
      "..\\datasets\\Planet\\GPHT\\012832ce-d966-4bf6-90cd-f713abc1536e\\PSScene\\20220111_140847_101f_3B_AnalyticMS_metadata_clip.xml: 100%|██████████| 0.01k/0.01k [00:00<00:00, 9.23MB/s]\n",
      "..\\datasets\\Planet\\GPHT\\012832ce-d966-4bf6-90cd-f713abc1536e\\PSScene\\20220111_140847_101f_metadata.json: 100%|██████████| 0.00k/0.00k [00:00<00:00, 894kB/s]\n",
      "..\\datasets\\Planet\\GPHT\\012832ce-d966-4bf6-90cd-f713abc1536e\\PSScene\\20220111_140847_101f_3B_udm2_clip.tif: 100%|██████████| 0.77k/0.77k [00:00<00:00, 7.41MB/s]\n",
      "..\\datasets\\Planet\\GPHT\\012832ce-d966-4bf6-90cd-f713abc1536e\\PSScene\\20220111_140847_101f_3B_AnalyticMS_SR_harmonized_clip_bandmath.tif: 100%|██████████| 51.4k/51.4k [00:00<00:00, 84.5MB/s]\n",
      "..\\datasets\\Planet\\GPHT\\012832ce-d966-4bf6-90cd-f713abc1536e\\PSScene\\20220107_111334_1054_3B_AnalyticMS_SR_harmonized_clip_bandmath.tif: 100%|██████████| 77.6k/77.6k [00:00<00:00, 84.9MB/s]\n",
      "..\\datasets\\Planet\\GPHT\\012832ce-d966-4bf6-90cd-f713abc1536e\\PSScene\\20220107_111334_1054_3B_udm2_clip.tif: 100%|██████████| 1.08k/1.08k [00:00<00:00, 8.35MB/s]\n",
      "..\\datasets\\Planet\\GPHT\\012832ce-d966-4bf6-90cd-f713abc1536e\\PSScene\\20220107_111334_1054_metadata.json: 100%|██████████| 0.00k/0.00k [00:00<00:00, 1.05MB/s]\n",
      "..\\datasets\\Planet\\GPHT\\012832ce-d966-4bf6-90cd-f713abc1536e\\PSScene\\20220107_111334_1054_3B_AnalyticMS_metadata_clip.xml: 100%|██████████| 0.01k/0.01k [00:00<00:00, 9.42MB/s]\n",
      "..\\datasets\\Planet\\GPHT\\012832ce-d966-4bf6-90cd-f713abc1536e\\PSScene\\20220107_134451_67_2453_3B_AnalyticMS_metadata_clip.xml: 100%|██████████| 0.01k/0.01k [00:00<00:00, 7.16MB/s]\n",
      "..\\datasets\\Planet\\GPHT\\012832ce-d966-4bf6-90cd-f713abc1536e\\PSScene\\20220107_134451_67_2453_3B_udm2_clip.tif: 100%|██████████| 0.42k/0.42k [00:00<00:00, 10.6MB/s]\n",
      "..\\datasets\\Planet\\GPHT\\012832ce-d966-4bf6-90cd-f713abc1536e\\PSScene\\20220107_134451_67_2453_metadata.json: 100%|██████████| 0.00k/0.00k [00:00<?, ?B/s]\n",
      "..\\datasets\\Planet\\GPHT\\012832ce-d966-4bf6-90cd-f713abc1536e\\PSScene\\20220107_134451_67_2453_3B_AnalyticMS_SR_harmonized_clip_bandmath.tif: 100%|██████████| 14.8k/14.8k [00:00<00:00, 63.6MB/s]\n",
      "..\\datasets\\Planet\\GPHT\\012832ce-d966-4bf6-90cd-f713abc1536e\\PSScene\\20220111_134448_90_2432_3B_AnalyticMS_metadata_clip.xml: 100%|██████████| 0.01k/0.01k [00:00<00:00, 8.11MB/s]\n",
      "..\\datasets\\Planet\\GPHT\\012832ce-d966-4bf6-90cd-f713abc1536e\\PSScene\\20220111_134448_90_2432_metadata.json: 100%|██████████| 0.00k/0.00k [00:00<?, ?B/s]\n",
      "..\\datasets\\Planet\\GPHT\\012832ce-d966-4bf6-90cd-f713abc1536e\\PSScene\\20220111_134448_90_2432_3B_AnalyticMS_SR_harmonized_clip_bandmath.tif: 100%|██████████| 157k/157k [00:02<00:00, 80.3MB/s] \n",
      "..\\datasets\\Planet\\GPHT\\012832ce-d966-4bf6-90cd-f713abc1536e\\PSScene\\20220111_134448_90_2432_3B_udm2_clip.tif: 100%|██████████| 1.39k/1.39k [00:00<00:00, 29.4MB/s]\n",
      "..\\datasets\\Planet\\GPHT\\012832ce-d966-4bf6-90cd-f713abc1536e\\manifest.json: 100%|██████████| 0.01k/0.01k [00:00<00:00, 5.24MB/s]\n"
     ]
    }
   ],
   "source": [
    "async def create_poll_and_download(cl, order_id, directory):\n",
    "    async with Session() as sess:\n",
    "\n",
    "        # Use \"reporting\" to manage polling for order status\n",
    "        with reporting.StateBar(state='creating') as bar:\n",
    "            # create order via Orders client\n",
    "            order = await cl.get_order(order_id)\n",
    "            bar.update(state='created', order_id=order_id)\n",
    "\n",
    "            # poll...poll...poll...\n",
    "            await cl.wait(order['id'], callback=bar.update_state)\n",
    "\n",
    "        # if we get here that means the order completed. Yay! Download the files.\n",
    "        await cl.download_order(order['id'], directory, progress_bar=True)\n",
    "\n",
    "async def main():\n",
    "    async with Session() as sess:\n",
    "        client = sess.client('orders')\n",
    "        await asyncio.gather(*[\n",
    "            # Downloading the images from order id\n",
    "            create_poll_and_download(client, id, '../'+DOWNLOAD_DIR_HT),\n",
    "        ])\n",
    "\n",
    "await main()"
   ]
  }
 ],
 "metadata": {
  "kernelspec": {
   "display_name": "MangroveRS",
   "language": "python",
   "name": "python3"
  },
  "language_info": {
   "codemirror_mode": {
    "name": "ipython",
    "version": 3
   },
   "file_extension": ".py",
   "mimetype": "text/x-python",
   "name": "python",
   "nbconvert_exporter": "python",
   "pygments_lexer": "ipython3",
   "version": "3.9.16"
  },
  "orig_nbformat": 4
 },
 "nbformat": 4,
 "nbformat_minor": 2
}
