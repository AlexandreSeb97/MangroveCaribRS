version https://git-lfs.github.com/spec/v1
oid sha256:e1c12fddde3825ce9b1f22f320aa35c6da5518fc3824b4e6a5fa83a97c634c59
size 3056569
