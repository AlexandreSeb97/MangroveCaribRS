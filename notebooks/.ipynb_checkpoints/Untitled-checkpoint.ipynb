{
 "cells": [
  {
   "cell_type": "code",
   "execution_count": 1,
   "id": "26337c8d",
   "metadata": {},
   "outputs": [],
   "source": [
    "import os, sys\n",
    "sys.path.append('/global/home/users/alexandregeorges/Chapter1/')\n",
    "\n",
    "import dask.dataframe as dd\n",
    "from codebase.utils import *\n",
    "from codebase.metrics import *\n",
    "from codebase.params import *\n",
    "\n",
    "import pandas as pd\n",
    "import xarray as xr"
   ]
  },
  {
   "cell_type": "code",
   "execution_count": null,
   "id": "5da1ae4c",
   "metadata": {},
   "outputs": [],
   "source": []
  },
  {
   "cell_type": "code",
   "execution_count": 3,
   "id": "a5727b13",
   "metadata": {},
   "outputs": [
    {
     "ename": "NameError",
     "evalue": "name 'site_code' is not defined",
     "output_type": "error",
     "traceback": [
      "\u001b[0;31m---------------------------------------------------------------------------\u001b[0m",
      "\u001b[0;31mNameError\u001b[0m                                 Traceback (most recent call last)",
      "Cell \u001b[0;32mIn[3], line 1\u001b[0m\n\u001b[0;32m----> 1\u001b[0m ndvi \u001b[38;5;241m=\u001b[39m pd\u001b[38;5;241m.\u001b[39mread_csv(CLASSIFIED_PREFIX\u001b[38;5;241m+\u001b[39msite_code\u001b[38;5;241m+\u001b[39m\u001b[38;5;124m'\u001b[39m\u001b[38;5;124m_NDVI.csv\u001b[39m\u001b[38;5;124m'\u001b[39m)\n\u001b[1;32m      2\u001b[0m uvvr \u001b[38;5;241m=\u001b[39m pd\u001b[38;5;241m.\u001b[39mread_csv(CLASSIFIED_PREFIX\u001b[38;5;241m+\u001b[39msite_code\u001b[38;5;241m+\u001b[39m\u001b[38;5;124m'\u001b[39m\u001b[38;5;124m_UVVR.csv\u001b[39m\u001b[38;5;124m'\u001b[39m)\n\u001b[1;32m      3\u001b[0m ndvi\n",
      "\u001b[0;31mNameError\u001b[0m: name 'site_code' is not defined"
     ]
    }
   ],
   "source": [
    "ndvi = pd.read_csv(CLASSIFIED_PREFIX+site_code+'_NDVI.csv')\n",
    "uvvr = pd.read_csv(CLASSIFIED_PREFIX+site_code+'_UVVR.csv')\n",
    "ndvi"
   ]
  }
 ],
 "metadata": {
  "kernelspec": {
   "display_name": "MangroveRS",
   "language": "python",
   "name": "mangrovers"
  },
  "language_info": {
   "codemirror_mode": {
    "name": "ipython",
    "version": 3
   },
   "file_extension": ".py",
   "mimetype": "text/x-python",
   "name": "python",
   "nbconvert_exporter": "python",
   "pygments_lexer": "ipython3",
   "version": "3.11.4"
  }
 },
 "nbformat": 4,
 "nbformat_minor": 5
}
