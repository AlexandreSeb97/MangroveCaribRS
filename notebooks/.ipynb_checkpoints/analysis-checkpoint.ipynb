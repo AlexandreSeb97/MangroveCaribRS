{
 "cells": [
  {
   "cell_type": "markdown",
   "metadata": {},
   "source": [
    "# **[Supervised Workflow]** Remote Sensing Analysis of Mangrove Forest Health and Extent in the Grand-Pierre Bay, Artibonite, Haiti \n",
    "## Analysis and Figures\n",
    "<hr>\n",
    "\n",
    "Written by Alexandre Erich Sebastien Georges, *PhD Student at UC Berkeley in EFMH-Civil and Environmental Engineering*, August 2023"
   ]
  },
  {
   "cell_type": "code",
   "execution_count": 4,
   "metadata": {},
   "outputs": [
    {
     "ename": "ModuleNotFoundError",
     "evalue": "No module named 'scripts.params'",
     "output_type": "error",
     "traceback": [
      "\u001b[0;31m---------------------------------------------------------------------------\u001b[0m",
      "\u001b[0;31mModuleNotFoundError\u001b[0m                       Traceback (most recent call last)",
      "Cell \u001b[0;32mIn[4], line 6\u001b[0m\n\u001b[1;32m      4\u001b[0m \u001b[38;5;28;01mfrom\u001b[39;00m \u001b[38;5;21;01mcodebase\u001b[39;00m\u001b[38;5;21;01m.\u001b[39;00m\u001b[38;5;21;01mparams\u001b[39;00m \u001b[38;5;28;01mimport\u001b[39;00m \u001b[38;5;241m*\u001b[39m\n\u001b[1;32m      5\u001b[0m \u001b[38;5;28;01mfrom\u001b[39;00m \u001b[38;5;21;01mcodebase\u001b[39;00m\u001b[38;5;21;01m.\u001b[39;00m\u001b[38;5;21;01mutils\u001b[39;00m \u001b[38;5;28;01mimport\u001b[39;00m \u001b[38;5;241m*\u001b[39m\n\u001b[0;32m----> 6\u001b[0m \u001b[38;5;28;01mfrom\u001b[39;00m \u001b[38;5;21;01mcodebase\u001b[39;00m\u001b[38;5;21;01m.\u001b[39;00m\u001b[38;5;21;01mfigures\u001b[39;00m \u001b[38;5;28;01mimport\u001b[39;00m \u001b[38;5;241m*\u001b[39m\n\u001b[1;32m      8\u001b[0m \u001b[38;5;28;01mimport\u001b[39;00m \u001b[38;5;21;01mitertools\u001b[39;00m\u001b[38;5;241m,\u001b[39m \u001b[38;5;21;01mglob\u001b[39;00m\u001b[38;5;241m,\u001b[39m \u001b[38;5;21;01mre\u001b[39;00m\u001b[38;5;241m,\u001b[39m \u001b[38;5;21;01mcopy\u001b[39;00m\n\u001b[1;32m     10\u001b[0m \u001b[38;5;28;01mfrom\u001b[39;00m \u001b[38;5;21;01mipywidgets\u001b[39;00m \u001b[38;5;28;01mimport\u001b[39;00m FloatProgress\n",
      "File \u001b[0;32m~/Chapter1/codebase/figures.py:1\u001b[0m\n\u001b[0;32m----> 1\u001b[0m \u001b[38;5;28;01mfrom\u001b[39;00m \u001b[38;5;21;01mscripts\u001b[39;00m\u001b[38;5;21;01m.\u001b[39;00m\u001b[38;5;21;01mparams\u001b[39;00m \u001b[38;5;28;01mimport\u001b[39;00m \u001b[38;5;241m*\u001b[39m\n\u001b[1;32m      3\u001b[0m \u001b[38;5;28;01mimport\u001b[39;00m \u001b[38;5;21;01mnumpy\u001b[39;00m \u001b[38;5;28;01mas\u001b[39;00m \u001b[38;5;21;01mnp\u001b[39;00m\n\u001b[1;32m      4\u001b[0m \u001b[38;5;28;01mimport\u001b[39;00m \u001b[38;5;21;01mrioxarray\u001b[39;00m \u001b[38;5;28;01mas\u001b[39;00m \u001b[38;5;21;01mrxr\u001b[39;00m\n",
      "\u001b[0;31mModuleNotFoundError\u001b[0m: No module named 'scripts.params'"
     ]
    }
   ],
   "source": [
    "import sys\n",
    "sys.path.append('/global/home/users/alexandregeorges/Chapter1/')\n",
    "\n",
    "from codebase.params import *\n",
    "from codebase.utils import *\n",
    "from codebase.figures import *\n",
    "\n",
    "import itertools, glob, re, copy\n",
    "\n",
    "from ipywidgets import FloatProgress\n",
    "from datetime import datetime, timedelta\n",
    "from joblib import dump, load\n",
    "\n",
    "import cv2 as cv\n",
    "import numpy as np\n",
    "import xarray as xr\n",
    "import pandas as pd\n",
    "import geopandas as gpd\n",
    "import rioxarray as rxr\n",
    "import earthpy.plot as ep\n",
    "import matplotlib.pyplot as plt\n",
    "\n",
    "import matplotlib as mpl\n",
    "import matplotlib.patches as mpatches\n",
    "from matplotlib import colors as colors_mat\n",
    "\n",
    "from tqdm.notebook import tqdm\n",
    "\n",
    "import seaborn as sns\n",
    "from sklearn.linear_model import LinearRegression\n",
    "\n",
    "mpl.rcParams.update({'font.size': 40})"
   ]
  },
  {
   "cell_type": "code",
   "execution_count": 2,
   "metadata": {},
   "outputs": [],
   "source": [
    "# functions to set up import for\n",
    "## utils: aoi_path, paths_to_datetimeindex\n",
    "## metrics: moa_calc, get_metrics, ndvi_calc, uvvr_calc\n",
    "## figures: metrics_visualization"
   ]
  },
  {
   "cell_type": "code",
   "execution_count": 3,
   "metadata": {},
   "outputs": [],
   "source": [
    "# Setting notebook wide dpi for figures\n",
    "image_quality = 200"
   ]
  },
  {
   "cell_type": "markdown",
   "metadata": {},
   "source": [
    "# Importing Data"
   ]
  },
  {
   "cell_type": "markdown",
   "metadata": {},
   "source": [
    "Site Selection"
   ]
  },
  {
   "cell_type": "code",
   "execution_count": 2,
   "metadata": {},
   "outputs": [],
   "source": [
    "# Options include : ['CCHT', 'GSHT', 'BRHT', 'COHT', 'IVHT', 'AQHT', 'MGHT', 'ARHT', 'OKHT']\n",
    "site_code = 'CCHT'\n",
    "aoi_list = [site_code]"
   ]
  },
  {
   "cell_type": "code",
   "execution_count": 3,
   "metadata": {},
   "outputs": [],
   "source": [
    "data_dir = DOWNLOAD_DIR_ROOT + site_code + '/'+ '*.tif'\n",
    "\n",
    "# Timestamps for acquired raster files\n",
    "times = [i.strftime('%m-%d-%Y') for i in paths_to_datetimeindex(glob.glob(data_dir))]\n",
    "time_var = xr.Variable('Observation Date', times)"
   ]
  },
  {
   "cell_type": "markdown",
   "metadata": {},
   "source": [
    "Masked Data"
   ]
  },
  {
   "cell_type": "code",
   "execution_count": null,
   "metadata": {},
   "outputs": [],
   "source": [
    "obs = xr.open_dataset(OBS_PREFIX+site_code+'_obs.nc')\n",
    "obs"
   ]
  },
  {
   "cell_type": "markdown",
   "metadata": {},
   "source": [
    "Classified Data"
   ]
  },
  {
   "cell_type": "code",
   "execution_count": null,
   "metadata": {},
   "outputs": [],
   "source": [
    "ds = xr.open_dataset(CLASSIFIED_PREFIX+site_code+'_classified.nc')\n",
    "ds"
   ]
  },
  {
   "cell_type": "code",
   "execution_count": null,
   "metadata": {},
   "outputs": [],
   "source": [
    "mangroveSites = ds['mangrove']\n",
    "unvegSites = ds['mudflat']"
   ]
  },
  {
   "cell_type": "markdown",
   "metadata": {},
   "source": [
    "# Analysis Functions"
   ]
  },
  {
   "cell_type": "code",
   "execution_count": null,
   "metadata": {},
   "outputs": [],
   "source": [
    "t = mangroveSites[0]\n",
    "t[0].shape"
   ]
  },
  {
   "cell_type": "markdown",
   "metadata": {},
   "source": [
    "# Plots"
   ]
  },
  {
   "cell_type": "markdown",
   "metadata": {},
   "source": [
    "Basemap from original observation for site"
   ]
  },
  {
   "cell_type": "code",
   "execution_count": null,
   "metadata": {},
   "outputs": [],
   "source": [
    "data_dir = DOWNLOAD_DIR_ROOT + site_code + '/'+ '*.tif'\n",
    "base = rxr.open_rasterio(glob.glob(data_dir)[0])\n",
    "base = base.where(base != 0)"
   ]
  },
  {
   "cell_type": "markdown",
   "metadata": {},
   "source": [
    "## Mangrove Cover Change"
   ]
  },
  {
   "cell_type": "code",
   "execution_count": null,
   "metadata": {},
   "outputs": [],
   "source": [
    "# Cover Change Calculation\n",
    "# Setting values to first and last observations\n",
    "first = np.where(ds['mangrove'][0] == 0, 4, 0)\n",
    "last = np.where(ds['mangrove'][-1] == 0, 2, 0)\n",
    "# Summing values to find pixels showing change\n",
    "change = first + last\n",
    "# Removing Pixels with no change\n",
    "change_mask = np.ma.masked_where(change == 0, change)"
   ]
  },
  {
   "cell_type": "code",
   "execution_count": null,
   "metadata": {},
   "outputs": [],
   "source": [
    "# Plotting Change\n",
    "fig, ax = plt.subplots(figsize=(30,30), dpi=image_quality)\n",
    "\n",
    "custom_cmap = colors_mat.ListedColormap(['#0025FC', '#D7262F', '#BBDFCB'])\n",
    "boundaries = [0, 2, 4, 6]\n",
    "custom_norm = colors_mat.BoundaryNorm(boundaries, custom_cmap.N, clip=True)\n",
    "\n",
    "patches = [mpatches.Patch(color='#D7262F', label='Lost Mangrove Cover'),\n",
    "            mpatches.Patch(color='#BBDFCB', label='No Change in Cover'),\n",
    "            mpatches.Patch(color='#0025FC', label='Gained Mangrove Cover')]\n",
    "\n",
    "ep.plot_rgb(base, rgb=[2,1,0], stretch=True,\n",
    "            str_clip=.09, ax=ax)\n",
    "ax.imshow(change_mask, cmap=custom_cmap)\n",
    "ax.set_title('Caracol, Haiti Mangrove Cover Change between '+times[1]+' and '+times[-1]);\n",
    "\n",
    "ax.spines['top'].set_visible(False)\n",
    "ax.spines['right'].set_visible(False)\n",
    "ax.spines['bottom'].set_visible(False)\n",
    "ax.spines['left'].set_visible(False)\n",
    "\n",
    "ax.legend(handles=patches, fontsize='small', loc='center', bbox_to_anchor=(0.5, -0.1), fancybox=False, ncol=3, frameon=False)\n",
    "ax.patch.set_facecolor('xkcd:white')\n",
    "\n",
    "plt.show()"
   ]
  },
  {
   "cell_type": "markdown",
   "metadata": {},
   "source": [
    "## NDVI Change in Mangrove (dNDVI)"
   ]
  },
  {
   "cell_type": "code",
   "execution_count": null,
   "metadata": {},
   "outputs": [],
   "source": [
    "# Calculating pixel-wise change in NDVI\n",
    "test_yr = times[-1]\n",
    "dndvi = obs[test_yr][-1] - obs[times[0]][-1]"
   ]
  },
  {
   "cell_type": "code",
   "execution_count": null,
   "metadata": {},
   "outputs": [],
   "source": [
    "# Plotting Change\n",
    "fig, ax = plt.subplots(figsize=(30,30), dpi=image_quality)\n",
    "\n",
    "ax.set_title('Caracol, Haiti Mangrove dNDVI between '+times[0]+' and '+test_yr, loc='center')\n",
    "divnorm = colors_mat.TwoSlopeNorm(vcenter=0)\n",
    "\n",
    "nd = ax.imshow(dndvi, cmap='seismic_r', norm=divnorm)\n",
    "plt.colorbar(nd, ax=ax, location='bottom', shrink=0.4, pad=-0.0025, label='NDVI Change \\n Most Decrease to Most Increase')\n",
    "\n",
    "ax.set_xticklabels([])\n",
    "ax.set_yticklabels([])\n",
    "ax.set_xticks([])\n",
    "ax.set_yticks([])\n",
    "\n",
    "ax.spines['top'].set_visible(False)\n",
    "ax.spines['right'].set_visible(False)\n",
    "ax.spines['bottom'].set_visible(False)\n",
    "ax.spines['left'].set_visible(False)\n",
    "\n",
    "#plt.savefig('../outputs/Final Figures/dNDVI_Creative.png', dpi=1000, bbox_inches='tight', transparent=True)\n",
    "plt.show()\n"
   ]
  },
  {
   "cell_type": "markdown",
   "metadata": {},
   "source": [
    "## Trend Trajectories"
   ]
  },
  {
   "cell_type": "code",
   "execution_count": null,
   "metadata": {},
   "outputs": [],
   "source": [
    "font = {'family' : 'sans-serif',\n",
    "        'weight' : 'regular',\n",
    "        'size'   : 32}\n",
    "\n",
    "mpl.rc('font', **font)"
   ]
  },
  {
   "cell_type": "code",
   "execution_count": null,
   "metadata": {},
   "outputs": [],
   "source": [
    "metrics_healthy = get_metrics([mangroveSites])"
   ]
  },
  {
   "cell_type": "code",
   "execution_count": null,
   "metadata": {},
   "outputs": [],
   "source": [
    "metrics_visualization(metrics_healthy, 'Mangrove Cover Trajectory ('+times[0]+' to '+times[-1]+')')"
   ]
  },
  {
   "cell_type": "markdown",
   "metadata": {},
   "source": [
    "## UVVR and NDVI Timeseries"
   ]
  },
  {
   "cell_type": "markdown",
   "metadata": {},
   "source": [
    "### UVVR Timeseries\n",
    "The unvegetated-vegetated marsh ratio (UVVR) is a spatially integrative metric that correlates with sediment budgets and sea-level rise *(Ganju et al. 2017)*; it is defined as:\n",
    "\n",
    "$$ UVVR = \\frac{A_{uv}}{A_v}$$ \n",
    "\n",
    "where Auv is the unvegetated area within a specified domain, and Av is the vegetated area. The total area of the wetland domain, Ad, is the sum of Auv and Av and the vegetated fraction, Fv, is therefore: <br>\n",
    "\n",
    "$$ F_v = \\frac{A_v}{A_d} $$ \n",
    "\n",
    "<br>\n",
    "Unvegetated areas can represent bare sediment, pools, channels, and intertidal flats. Vegetated areas are typically wetland plain areas, and in a “binary” context, any vegetated plain, regardless of stem density, would be considered vegetated at some nominal spatial scale."
   ]
  },
  {
   "cell_type": "code",
   "execution_count": null,
   "metadata": {},
   "outputs": [],
   "source": [
    "from scipy import stats\n",
    "\n",
    "def get_conf_int(alpha, lr, X, y):\n",
    "    \n",
    "    \"\"\"\n",
    "    Returns (1-alpha) 2-sided confidence intervals\n",
    "    for sklearn.LinearRegression coefficients\n",
    "    as a pandas DataFrame\n",
    "    \"\"\"\n",
    "    \n",
    "    coefs = np.r_[[lr.intercept_], lr.coef_]\n",
    "    X_aux = X.copy()\n",
    "    X_aux.insert(0, 'const', 1)\n",
    "    dof = -np.diff(X_aux.shape)[0]\n",
    "    mse = np.sum((y - lr.predict(X)) ** 2) / dof\n",
    "    var_params = np.diag(np.linalg.inv(X_aux.T.dot(X_aux)))\n",
    "    t_val = stats.t.isf(alpha/2, dof)\n",
    "    gap = t_val * np.sqrt(mse * var_params)\n",
    "\n",
    "    return pd.DataFrame({\n",
    "        'lower': coefs - gap, 'upper': coefs + gap\n",
    "    }, index=X_aux.columns)\n",
    "\n",
    "\n",
    "def linear_fit(df, site):\n",
    "    # Training data\n",
    "    X = df.loc[:, ['days_from_start']]  # features\n",
    "    y = df.loc[:, site]  # target\n",
    "\n",
    "    # Train the model\n",
    "    model = LinearRegression()\n",
    "    model.fit(X, y)\n",
    "\n",
    "    # Store the fitted values as a time series with the same time index as\n",
    "    # the training data\n",
    "    y_pred = pd.Series(model.predict(X), index=X.index)\n",
    "\n",
    "    # Confidence interval\n",
    "    \n",
    "    # for 95% confidence interval; use 0.01 for 99%-CI.\n",
    "    alpha = 0.05\n",
    "    # fit a sklearn LinearRegression model\n",
    "    ci = get_conf_int(alpha, model, X, y)\n",
    "\n",
    "\n",
    "    return y_pred, ci"
   ]
  },
  {
   "cell_type": "code",
   "execution_count": null,
   "metadata": {},
   "outputs": [],
   "source": [
    "df_uvvr = uvvr_calc(times, [unvegSites], [mangroveSites], aoi_list)\n",
    "df_uvvr['days_from_start'] = (df_uvvr['dates'] - df_uvvr['dates'][0]).dt.days"
   ]
  },
  {
   "cell_type": "code",
   "execution_count": null,
   "metadata": {},
   "outputs": [],
   "source": [
    "# Dropping drought years for linear fit to ignore drought effects\n",
    "#drought_points = df_NDVI_all[(df_NDVI_all['dates'] >= np.datetime64('2013-01-01')) & (df_NDVI_all['dates'] <= np.datetime64('2016-01-01'))]\n",
    "#df_ndvi_drought = df_NDVI_all.drop(drought_points.index)\n",
    "\n",
    "df_uvvr['linfit'] = linear_fit(df_uvvr, site_code)[0]\n",
    "dates_backup = copy.deepcopy(df_uvvr['dates'].values)\n",
    "\n",
    "# Convert 'dates' column to datetime\n",
    "df_uvvr['dates'] = pd.to_datetime(df_uvvr['dates'])\n",
    "df_uvvr.set_index('dates', inplace=True)\n",
    "\n",
    "df_uvvr['ndates'] = dates_backup\n",
    "df_uvvr['linfit'] = df_uvvr['linfit'].interpolate(method='time')\n",
    "df_uvvr.head()"
   ]
  },
  {
   "cell_type": "code",
   "execution_count": null,
   "metadata": {},
   "outputs": [],
   "source": [
    "fig, ax = plt.subplots(figsize=(20,10))\n",
    "\n",
    "df_uvvr.plot.scatter(x='ndates', y=site_code, ax=ax, c='tab:orange', marker='+', s=300, lw=7, zorder=5)\n",
    "df_uvvr.plot(x='ndates', y='linfit', ax=ax, c='tab:blue', lw=7, alpha=0.5, label='Linear Fit', zorder=10)\n",
    "\n",
    "\n",
    "ax.set_xlim(df_uvvr['ndates'].min() - timedelta(days=20), df_uvvr['ndates'].max() + timedelta(days=100))\n",
    "\n",
    "ax.set_title('Unvegetated to Vegetated Ratio Timeseries')\n",
    "ax.set_xlabel('Observation Date')\n",
    "ax.set_ylabel('Unvegetated to Vegetated Ratio')\n",
    "ax.legend()\n",
    "ax.grid(zorder=0)\n",
    "\n",
    "# careful with saving to not overwrite old plots, leave this commented by default\n",
    "#plt.savefig('../outputs/Final Figures/ndvi_timeseries_white.png', dpi=1000, bbox_inches='tight', transparent=True)\n",
    "\n",
    "plt.show();"
   ]
  },
  {
   "cell_type": "code",
   "execution_count": null,
   "metadata": {},
   "outputs": [],
   "source": [
    "metrics_timeseries(df_uvvr, site_code, 'Unvegetated to Vegetated Ratio Timeseries', 'Unvegetated to Vegetated Ratio')"
   ]
  },
  {
   "cell_type": "markdown",
   "metadata": {},
   "source": [
    "### NDVI Timeseries"
   ]
  },
  {
   "cell_type": "code",
   "execution_count": null,
   "metadata": {},
   "outputs": [],
   "source": [
    "df_NDVI = ndvi_calc(times, [obs], aoi_list)\n",
    "df_NDVI['days_from_start'] = (df_NDVI['dates'] - df_NDVI['dates'][0]).dt.days"
   ]
  },
  {
   "cell_type": "code",
   "execution_count": null,
   "metadata": {},
   "outputs": [],
   "source": [
    "# Dropping drought years for linear fit to ignore drought effects\n",
    "#drought_points = df_NDVI_all[(df_NDVI_all['dates'] >= np.datetime64('2013-01-01')) & (df_NDVI_all['dates'] <= np.datetime64('2016-01-01'))]\n",
    "#df_ndvi_drought = df_NDVI_all.drop(drought_points.index)\n",
    "\n",
    "df_NDVI['linfit'] = linear_fit(df_NDVI, site_code)[0]\n",
    "# Interpolate missing date values for fit without drought points\n",
    "df_NDVI['dates'] = pd.to_datetime(df_NDVI['dates'])\n",
    "\n",
    "dates_backup = copy.deepcopy(df_NDVI['dates'].values)\n",
    "\n",
    "\n",
    "df_NDVI.set_index('dates', inplace=True)\n",
    "df_NDVI['linfit'] = df_NDVI['linfit'].interpolate(method='time')\n",
    "\n",
    "df_NDVI['ndates'] = dates_backup\n",
    "df_NDVI.head()"
   ]
  },
  {
   "cell_type": "code",
   "execution_count": null,
   "metadata": {},
   "outputs": [],
   "source": [
    "metrics_timeseries(df_NDVI, site_code, 'NDVI Timeseries', 'NDVI')"
   ]
  },
  {
   "cell_type": "code",
   "execution_count": null,
   "metadata": {},
   "outputs": [],
   "source": []
  }
 ],
 "metadata": {
  "kernelspec": {
   "display_name": "MangroveRS",
   "language": "python",
   "name": "mangrovers"
  },
  "language_info": {
   "codemirror_mode": {
    "name": "ipython",
    "version": 3
   },
   "file_extension": ".py",
   "mimetype": "text/x-python",
   "name": "python",
   "nbconvert_exporter": "python",
   "pygments_lexer": "ipython3",
   "version": "3.11.4"
  }
 },
 "nbformat": 4,
 "nbformat_minor": 2
}
