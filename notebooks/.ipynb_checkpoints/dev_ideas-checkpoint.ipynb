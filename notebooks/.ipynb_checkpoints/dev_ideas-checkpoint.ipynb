version https://git-lfs.github.com/spec/v1
oid sha256:355a735d830de42855e390457547925f108a7b5ba742a12050544461a938ebdf
size 385119
