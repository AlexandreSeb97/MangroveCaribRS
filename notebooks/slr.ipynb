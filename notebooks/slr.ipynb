version https://git-lfs.github.com/spec/v1
oid sha256:98665d5c11ff6ca1c33c6ead2d2dbe5ff84996e2a1aa4f5076bb490e105bc2ac
size 61978
